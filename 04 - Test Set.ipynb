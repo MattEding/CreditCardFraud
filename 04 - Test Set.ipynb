{
 "cells": [
  {
   "cell_type": "code",
   "execution_count": 1,
   "metadata": {},
   "outputs": [],
   "source": [
    "import pickle\n",
    "from pathlib import Path\n",
    "\n",
    "import pandas as pd\n",
    "\n",
    "from sklearn.metrics import confusion_matrix\n",
    "from sklearn.metrics import recall_score\n",
    "from sklearn.metrics import roc_curve\n",
    "\n",
    "from plotting import plot_confusion_matrix"
   ]
  },
  {
   "cell_type": "code",
   "execution_count": 2,
   "metadata": {},
   "outputs": [],
   "source": [
    "data_dir = Path.cwd() / 'data'\n",
    "pkl_dir = data_dir / 'pkl'\n",
    "\n",
    "credit_test = pd.read_pickle(pkl_dir / 'credit_test.pkl')\n",
    "X_test, y_test = credit_test.drop(columns=['Class']), credit_test['Class']\n",
    "\n",
    "with open(pkl_dir / 'smote_best.pkl', 'rb') as fp:\n",
    "    smote_best = pickle.load(fp)\n",
    "    \n",
    "    \n",
    "with open(pkl_dir / 'adasyn_best.pkl', 'rb') as fp:\n",
    "    adasyn_best = pickle.load(fp)"
   ]
  },
  {
   "cell_type": "markdown",
   "metadata": {},
   "source": [
    "## Evaluation\n",
    "My metric of choice is recall, but I will also look into precision as the number of false-positives will affect business decisions should auditing too many non-fraud accounts be more costly than missing a few fraud accounts."
   ]
  },
  {
   "cell_type": "code",
   "execution_count": 3,
   "metadata": {},
   "outputs": [
    {
     "name": "stdout",
     "output_type": "stream",
     "text": [
      "Recall: 94.06%\n"
     ]
    },
    {
     "data": {
      "image/png": "[encoded data removed]",
      "text/plain": [
       "<Figure size 432x288 with 2 Axes>"
      ]
     },
     "metadata": {
      "needs_background": "light"
     },
     "output_type": "display_data"
    }
   ],
   "source": [
    "y_pred_smote = smote_best.predict(X_test)\n",
    "recall_smote = recall_score(y_test, y_pred_smote)\n",
    "conf_mtx_smote = confusion_matrix(y_test, y_pred_smote)\n",
    "print(f'Recall: {recall_smote:.2%}')\n",
    "plot_confusion_matrix(y_test, y_pred_smote, classes=['Non-Fraud', 'Fraud'], title='SMOTE Model');"
   ]
  },
  {
   "cell_type": "code",
   "execution_count": 4,
   "metadata": {},
   "outputs": [
    {
     "name": "stdout",
     "output_type": "stream",
     "text": [
      "Recall: 97.03%\n"
     ]
    },
    {
     "data": {
      "image/png": "[encoded data removed]",
      "text/plain": [
       "<Figure size 432x288 with 2 Axes>"
      ]
     },
     "metadata": {
      "needs_background": "light"
     },
     "output_type": "display_data"
    }
   ],
   "source": [
    "y_pred_adasyn = adasyn_best.predict(X_test)\n",
    "recall_adasyn = recall_score(y_test, y_pred_adasyn)\n",
    "conf_mtx_adasyn = confusion_matrix(y_test, y_pred_adasyn)\n",
    "print(f'Recall: {recall_adasyn:.2%}')\n",
    "plot_confusion_matrix(y_test, y_pred_adasyn, classes=['Non-Fraud', 'Fraud'], title='ADASYN Model');"
   ]
  },
  {
   "cell_type": "markdown",
   "metadata": {},
   "source": [
    "### Determining which model to choose"
   ]
  },
  {
   "cell_type": "markdown",
   "metadata": {},
   "source": [
    "Let $F$ be the cost of leaving a fraudulent account being uncaught.\n",
    "\n",
    "Let $A$ be the cost of auditing an account to see if it is fraudulent.\n",
    "\n",
    "Let $f_{\\tiny{Model}}$ be the number of uncaught fraudulent accounts (TN) for a given model.\n",
    "\n",
    "Let $a_{\\tiny{Model}}$ be the number of accounts flagged as fraudulent (TP + FP) for a given model.\n",
    "\n",
    "\n",
    "$$\\text{SMOTE } = \\text{ADASYN}$$\n",
    "\n",
    "$$F \\cdot f_{\\tiny{SMOTE}} + A \\cdot a_{\\tiny{SMOTE}} = F \\cdot f_{\\tiny{ADASYN}} + A \\cdot a_{\\tiny{ADASYN}}$$\n",
    "\n",
    "$$6F + (1425 + 95)A = 3F + (5457 + 98)A$$\n",
    "\n",
    "$$6F + 1520A = 3F + 5555A$$\n",
    "\n",
    "$$3F = 4035A$$\n",
    "\n",
    "$$F = 1345A$$\n",
    "\n",
    "\n",
    "Thus if the average cost of leaving a fraudulent account uncaught is 1345 times the cost per audit, the ADASYN model should be the one used."
   ]
  },
  {
   "cell_type": "code",
   "execution_count": 5,
   "metadata": {},
   "outputs": [
    {
     "name": "stdout",
     "output_type": "stream",
     "text": [
      "SMOTE cost: $136,000\n",
      "ADASYN cost: $307,750\n",
      "Use the SMOTE model\n"
     ]
    }
   ],
   "source": [
    "def select_model(audit_cost, fraud_cost):\n",
    "    smote_cost = 6 * fraud_cost + 1520 * audit_cost\n",
    "    adasyn_cost = 3 * fraud_cost + 5555 * audit_cost\n",
    "    \n",
    "    if np.isclose(smote_cost, adasyn_cost):\n",
    "        choice = 'Either'\n",
    "    elif smote_cost < adasyn_cost:\n",
    "        choice = 'SMOTE'\n",
    "    else:\n",
    "        choice = 'ADASYN'\n",
    "    \n",
    "    print(f'SMOTE cost: ${smote_cost:,}')\n",
    "    print(f'ADASYN cost: ${adasyn_cost:,}')\n",
    "    print(f'Use the {choice} model')\n",
    "\n",
    "# assuming audits cost $50 and uncaught fraudulent activity cost $10,000\n",
    "select_model(audit_cost=50, fraud_cost=10_000)"
   ]
  },
  {
   "cell_type": "code",
   "execution_count": null,
   "metadata": {},
   "outputs": [],
   "source": []
  }
 ],
 "metadata": {
  "kernelspec": {
   "display_name": "Python 3",
   "language": "python",
   "name": "python3"
  },
  "language_info": {
   "codemirror_mode": {
    "name": "ipython",
    "version": 3
   },
   "file_extension": ".py",
   "mimetype": "text/x-python",
   "name": "python",
   "nbconvert_exporter": "python",
   "pygments_lexer": "ipython3",
   "version": "3.7.3"
  }
 },
 "nbformat": 4,
 "nbformat_minor": 2
}
