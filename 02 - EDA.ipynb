{
 "cells": [
  {
   "cell_type": "code",
   "execution_count": 1,
   "metadata": {},
   "outputs": [],
   "source": [
    "import itertools\n",
    "from pathlib import Path\n",
    "\n",
    "import numpy as np\n",
    "import pandas as pd\n",
    "\n",
    "import matplotlib.pyplot as plt\n",
    "from matplotlib.collections import PolyCollection\n",
    "\n",
    "import seaborn as sns\n",
    "\n",
    "from sklearn.neighbors import LocalOutlierFactor\n",
    "\n",
    "from transformers import AmountCentsOnly, Log1pAmount, TimeToHour\n",
    "\n",
    "sns.set(style=\"ticks\")"
   ]
  },
  {
   "cell_type": "markdown",
   "metadata": {},
   "source": [
    "# Credit Card Fraud\n",
    "https://www.kaggle.com/mlg-ulb/creditcardfraud\n",
    "\n",
    "## Features\n",
    "---------------\n",
    "- __Time:__ seconds elapsed fromfirst transaction in dataset\n",
    "- __V1-V28:__ PCA components\n",
    "- __Class:__ 1 fraud / 0 otherwise\n",
    "- __Amount:__ transaction amount"
   ]
  },
  {
   "cell_type": "code",
   "execution_count": 2,
   "metadata": {},
   "outputs": [
    {
     "data": {
      "text/html": [
       "<div>\n",
       "<style scoped>\n",
       "    .dataframe tbody tr th:only-of-type {\n",
       "        vertical-align: middle;\n",
       "    }\n",
       "\n",
       "    .dataframe tbody tr th {\n",
       "        vertical-align: top;\n",
       "    }\n",
       "\n",
       "    .dataframe thead th {\n",
       "        text-align: right;\n",
       "    }\n",
       "</style>\n",
       "<table border=\"1\" class=\"dataframe\">\n",
       "  <thead>\n",
       "    <tr style=\"text-align: right;\">\n",
       "      <th></th>\n",
       "      <th>Time</th>\n",
       "      <th>V1</th>\n",
       "      <th>V2</th>\n",
       "      <th>V3</th>\n",
       "      <th>V4</th>\n",
       "      <th>V5</th>\n",
       "      <th>V6</th>\n",
       "      <th>V7</th>\n",
       "      <th>V8</th>\n",
       "      <th>V9</th>\n",
       "      <th>...</th>\n",
       "      <th>V21</th>\n",
       "      <th>V22</th>\n",
       "      <th>V23</th>\n",
       "      <th>V24</th>\n",
       "      <th>V25</th>\n",
       "      <th>V26</th>\n",
       "      <th>V27</th>\n",
       "      <th>V28</th>\n",
       "      <th>Amount</th>\n",
       "      <th>Class</th>\n",
       "    </tr>\n",
       "  </thead>\n",
       "  <tbody>\n",
       "    <tr>\n",
       "      <td>68806</td>\n",
       "      <td>53150.0</td>\n",
       "      <td>-1.115047</td>\n",
       "      <td>1.035583</td>\n",
       "      <td>0.800712</td>\n",
       "      <td>-1.060398</td>\n",
       "      <td>0.032621</td>\n",
       "      <td>0.853422</td>\n",
       "      <td>-0.614243</td>\n",
       "      <td>-3.231161</td>\n",
       "      <td>1.539948</td>\n",
       "      <td>...</td>\n",
       "      <td>3.020385</td>\n",
       "      <td>-0.539618</td>\n",
       "      <td>0.033156</td>\n",
       "      <td>-0.774946</td>\n",
       "      <td>0.105868</td>\n",
       "      <td>-0.430853</td>\n",
       "      <td>0.229737</td>\n",
       "      <td>-0.070591</td>\n",
       "      <td>12.95</td>\n",
       "      <td>0</td>\n",
       "    </tr>\n",
       "    <tr>\n",
       "      <td>40018</td>\n",
       "      <td>40060.0</td>\n",
       "      <td>1.228473</td>\n",
       "      <td>-0.138826</td>\n",
       "      <td>0.473795</td>\n",
       "      <td>-0.166381</td>\n",
       "      <td>-0.453564</td>\n",
       "      <td>-0.190135</td>\n",
       "      <td>-0.355309</td>\n",
       "      <td>0.048598</td>\n",
       "      <td>0.128943</td>\n",
       "      <td>...</td>\n",
       "      <td>-0.172147</td>\n",
       "      <td>-0.574730</td>\n",
       "      <td>0.036834</td>\n",
       "      <td>-0.303782</td>\n",
       "      <td>0.073315</td>\n",
       "      <td>0.810356</td>\n",
       "      <td>-0.069178</td>\n",
       "      <td>0.001890</td>\n",
       "      <td>25.57</td>\n",
       "      <td>0</td>\n",
       "    </tr>\n",
       "    <tr>\n",
       "      <td>250360</td>\n",
       "      <td>154865.0</td>\n",
       "      <td>1.926148</td>\n",
       "      <td>-0.198628</td>\n",
       "      <td>-0.286727</td>\n",
       "      <td>1.596852</td>\n",
       "      <td>-0.488963</td>\n",
       "      <td>-0.311405</td>\n",
       "      <td>-0.303207</td>\n",
       "      <td>0.035513</td>\n",
       "      <td>1.301312</td>\n",
       "      <td>...</td>\n",
       "      <td>-0.528432</td>\n",
       "      <td>-1.251300</td>\n",
       "      <td>0.455607</td>\n",
       "      <td>-0.120530</td>\n",
       "      <td>-0.361515</td>\n",
       "      <td>-1.099295</td>\n",
       "      <td>0.052747</td>\n",
       "      <td>-0.032622</td>\n",
       "      <td>6.90</td>\n",
       "      <td>0</td>\n",
       "    </tr>\n",
       "    <tr>\n",
       "      <td>234820</td>\n",
       "      <td>148130.0</td>\n",
       "      <td>2.046232</td>\n",
       "      <td>0.196183</td>\n",
       "      <td>-1.704650</td>\n",
       "      <td>0.530027</td>\n",
       "      <td>0.177496</td>\n",
       "      <td>-1.443091</td>\n",
       "      <td>0.255403</td>\n",
       "      <td>-0.365759</td>\n",
       "      <td>0.602945</td>\n",
       "      <td>...</td>\n",
       "      <td>0.201104</td>\n",
       "      <td>0.757245</td>\n",
       "      <td>-0.013600</td>\n",
       "      <td>-0.079318</td>\n",
       "      <td>0.234805</td>\n",
       "      <td>-0.098151</td>\n",
       "      <td>0.000028</td>\n",
       "      <td>-0.031675</td>\n",
       "      <td>4.55</td>\n",
       "      <td>0</td>\n",
       "    </tr>\n",
       "    <tr>\n",
       "      <td>10001</td>\n",
       "      <td>15014.0</td>\n",
       "      <td>-0.837077</td>\n",
       "      <td>1.034710</td>\n",
       "      <td>2.333129</td>\n",
       "      <td>3.103776</td>\n",
       "      <td>0.229143</td>\n",
       "      <td>0.501123</td>\n",
       "      <td>0.314283</td>\n",
       "      <td>-0.161583</td>\n",
       "      <td>0.409634</td>\n",
       "      <td>...</td>\n",
       "      <td>-0.363839</td>\n",
       "      <td>-0.458101</td>\n",
       "      <td>0.164097</td>\n",
       "      <td>0.234167</td>\n",
       "      <td>-0.418734</td>\n",
       "      <td>-0.074078</td>\n",
       "      <td>-0.355165</td>\n",
       "      <td>-0.169616</td>\n",
       "      <td>3.79</td>\n",
       "      <td>0</td>\n",
       "    </tr>\n",
       "  </tbody>\n",
       "</table>\n",
       "<p>5 rows × 31 columns</p>\n",
       "</div>"
      ],
      "text/plain": [
       "            Time        V1        V2        V3        V4        V5        V6  \\\n",
       "68806    53150.0 -1.115047  1.035583  0.800712 -1.060398  0.032621  0.853422   \n",
       "40018    40060.0  1.228473 -0.138826  0.473795 -0.166381 -0.453564 -0.190135   \n",
       "250360  154865.0  1.926148 -0.198628 -0.286727  1.596852 -0.488963 -0.311405   \n",
       "234820  148130.0  2.046232  0.196183 -1.704650  0.530027  0.177496 -1.443091   \n",
       "10001    15014.0 -0.837077  1.034710  2.333129  3.103776  0.229143  0.501123   \n",
       "\n",
       "              V7        V8        V9  ...       V21       V22       V23  \\\n",
       "68806  -0.614243 -3.231161  1.539948  ...  3.020385 -0.539618  0.033156   \n",
       "40018  -0.355309  0.048598  0.128943  ... -0.172147 -0.574730  0.036834   \n",
       "250360 -0.303207  0.035513  1.301312  ... -0.528432 -1.251300  0.455607   \n",
       "234820  0.255403 -0.365759  0.602945  ...  0.201104  0.757245 -0.013600   \n",
       "10001   0.314283 -0.161583  0.409634  ... -0.363839 -0.458101  0.164097   \n",
       "\n",
       "             V24       V25       V26       V27       V28  Amount  Class  \n",
       "68806  -0.774946  0.105868 -0.430853  0.229737 -0.070591   12.95      0  \n",
       "40018  -0.303782  0.073315  0.810356 -0.069178  0.001890   25.57      0  \n",
       "250360 -0.120530 -0.361515 -1.099295  0.052747 -0.032622    6.90      0  \n",
       "234820 -0.079318  0.234805 -0.098151  0.000028 -0.031675    4.55      0  \n",
       "10001   0.234167 -0.418734 -0.074078 -0.355165 -0.169616    3.79      0  \n",
       "\n",
       "[5 rows x 31 columns]"
      ]
     },
     "execution_count": 2,
     "metadata": {},
     "output_type": "execute_result"
    }
   ],
   "source": [
    "data_dir = Path.cwd() / 'data'\n",
    "pkl_dir = data_dir / 'pkl'\n",
    "\n",
    "credit = pd.read_pickle(pkl_dir / 'credit_train.pkl')\n",
    "credit.head()"
   ]
  },
  {
   "cell_type": "markdown",
   "metadata": {},
   "source": [
    "No need to clean the values of the data. There are no null values, and the data types are already numeric."
   ]
  },
  {
   "cell_type": "code",
   "execution_count": 3,
   "metadata": {},
   "outputs": [
    {
     "name": "stdout",
     "output_type": "stream",
     "text": [
      "Data types: [dtype('int64') dtype('float64')]\n",
      "Null values: 0\n"
     ]
    }
   ],
   "source": [
    "print(f\"Data types: {np.unique(credit.dtypes)}\")\n",
    "print(f\"Null values: {credit.isna().sum().sum()}\")"
   ]
  },
  {
   "cell_type": "code",
   "execution_count": 4,
   "metadata": {},
   "outputs": [
    {
     "data": {
      "text/html": [
       "<div>\n",
       "<style scoped>\n",
       "    .dataframe tbody tr th:only-of-type {\n",
       "        vertical-align: middle;\n",
       "    }\n",
       "\n",
       "    .dataframe tbody tr th {\n",
       "        vertical-align: top;\n",
       "    }\n",
       "\n",
       "    .dataframe thead th {\n",
       "        text-align: right;\n",
       "    }\n",
       "</style>\n",
       "<table border=\"1\" class=\"dataframe\">\n",
       "  <thead>\n",
       "    <tr style=\"text-align: right;\">\n",
       "      <th></th>\n",
       "      <th>Time</th>\n",
       "      <th>V1</th>\n",
       "      <th>V2</th>\n",
       "      <th>V3</th>\n",
       "      <th>V4</th>\n",
       "      <th>V5</th>\n",
       "      <th>V6</th>\n",
       "      <th>V7</th>\n",
       "      <th>V8</th>\n",
       "      <th>V9</th>\n",
       "      <th>...</th>\n",
       "      <th>V21</th>\n",
       "      <th>V22</th>\n",
       "      <th>V23</th>\n",
       "      <th>V24</th>\n",
       "      <th>V25</th>\n",
       "      <th>V26</th>\n",
       "      <th>V27</th>\n",
       "      <th>V28</th>\n",
       "      <th>Amount</th>\n",
       "      <th>Class</th>\n",
       "    </tr>\n",
       "  </thead>\n",
       "  <tbody>\n",
       "    <tr>\n",
       "      <td>count</td>\n",
       "      <td>227845.000000</td>\n",
       "      <td>227845.000000</td>\n",
       "      <td>227845.000000</td>\n",
       "      <td>227845.000000</td>\n",
       "      <td>227845.000000</td>\n",
       "      <td>227845.000000</td>\n",
       "      <td>227845.000000</td>\n",
       "      <td>227845.000000</td>\n",
       "      <td>227845.000000</td>\n",
       "      <td>227845.000000</td>\n",
       "      <td>...</td>\n",
       "      <td>227845.000000</td>\n",
       "      <td>227845.000000</td>\n",
       "      <td>227845.000000</td>\n",
       "      <td>227845.000000</td>\n",
       "      <td>227845.000000</td>\n",
       "      <td>227845.000000</td>\n",
       "      <td>227845.000000</td>\n",
       "      <td>227845.000000</td>\n",
       "      <td>227845.000000</td>\n",
       "      <td>227845.000000</td>\n",
       "    </tr>\n",
       "    <tr>\n",
       "      <td>mean</td>\n",
       "      <td>94832.242876</td>\n",
       "      <td>0.002930</td>\n",
       "      <td>-0.000877</td>\n",
       "      <td>-0.001470</td>\n",
       "      <td>0.001131</td>\n",
       "      <td>-0.001714</td>\n",
       "      <td>-0.001035</td>\n",
       "      <td>-0.000411</td>\n",
       "      <td>-0.001360</td>\n",
       "      <td>-0.000018</td>\n",
       "      <td>...</td>\n",
       "      <td>0.000266</td>\n",
       "      <td>0.000300</td>\n",
       "      <td>-0.000276</td>\n",
       "      <td>0.000687</td>\n",
       "      <td>0.000192</td>\n",
       "      <td>-0.000584</td>\n",
       "      <td>-0.000574</td>\n",
       "      <td>-0.000135</td>\n",
       "      <td>88.630203</td>\n",
       "      <td>0.001716</td>\n",
       "    </tr>\n",
       "    <tr>\n",
       "      <td>std</td>\n",
       "      <td>47500.701858</td>\n",
       "      <td>1.955265</td>\n",
       "      <td>1.649672</td>\n",
       "      <td>1.515055</td>\n",
       "      <td>1.416360</td>\n",
       "      <td>1.365962</td>\n",
       "      <td>1.326404</td>\n",
       "      <td>1.225317</td>\n",
       "      <td>1.205508</td>\n",
       "      <td>1.099972</td>\n",
       "      <td>...</td>\n",
       "      <td>0.737593</td>\n",
       "      <td>0.726705</td>\n",
       "      <td>0.623074</td>\n",
       "      <td>0.605268</td>\n",
       "      <td>0.520835</td>\n",
       "      <td>0.481943</td>\n",
       "      <td>0.401394</td>\n",
       "      <td>0.320750</td>\n",
       "      <td>248.037789</td>\n",
       "      <td>0.041390</td>\n",
       "    </tr>\n",
       "    <tr>\n",
       "      <td>min</td>\n",
       "      <td>0.000000</td>\n",
       "      <td>-46.855047</td>\n",
       "      <td>-63.344698</td>\n",
       "      <td>-33.680984</td>\n",
       "      <td>-5.683171</td>\n",
       "      <td>-42.147898</td>\n",
       "      <td>-23.496714</td>\n",
       "      <td>-43.557242</td>\n",
       "      <td>-73.216718</td>\n",
       "      <td>-13.434066</td>\n",
       "      <td>...</td>\n",
       "      <td>-34.830382</td>\n",
       "      <td>-10.933144</td>\n",
       "      <td>-44.807735</td>\n",
       "      <td>-2.822684</td>\n",
       "      <td>-10.295397</td>\n",
       "      <td>-2.604551</td>\n",
       "      <td>-22.565679</td>\n",
       "      <td>-11.710896</td>\n",
       "      <td>0.000000</td>\n",
       "      <td>0.000000</td>\n",
       "    </tr>\n",
       "    <tr>\n",
       "      <td>25%</td>\n",
       "      <td>54202.000000</td>\n",
       "      <td>-0.919898</td>\n",
       "      <td>-0.599013</td>\n",
       "      <td>-0.894424</td>\n",
       "      <td>-0.847412</td>\n",
       "      <td>-0.693585</td>\n",
       "      <td>-0.769201</td>\n",
       "      <td>-0.553573</td>\n",
       "      <td>-0.209145</td>\n",
       "      <td>-0.644499</td>\n",
       "      <td>...</td>\n",
       "      <td>-0.228658</td>\n",
       "      <td>-0.543193</td>\n",
       "      <td>-0.161766</td>\n",
       "      <td>-0.354153</td>\n",
       "      <td>-0.316644</td>\n",
       "      <td>-0.327647</td>\n",
       "      <td>-0.070776</td>\n",
       "      <td>-0.052865</td>\n",
       "      <td>5.690000</td>\n",
       "      <td>0.000000</td>\n",
       "    </tr>\n",
       "    <tr>\n",
       "      <td>50%</td>\n",
       "      <td>84737.000000</td>\n",
       "      <td>0.021886</td>\n",
       "      <td>0.063972</td>\n",
       "      <td>0.177138</td>\n",
       "      <td>-0.017538</td>\n",
       "      <td>-0.055515</td>\n",
       "      <td>-0.274916</td>\n",
       "      <td>0.039988</td>\n",
       "      <td>0.021545</td>\n",
       "      <td>-0.050353</td>\n",
       "      <td>...</td>\n",
       "      <td>-0.028974</td>\n",
       "      <td>0.006970</td>\n",
       "      <td>-0.010914</td>\n",
       "      <td>0.041164</td>\n",
       "      <td>0.017429</td>\n",
       "      <td>-0.052443</td>\n",
       "      <td>0.001091</td>\n",
       "      <td>0.011171</td>\n",
       "      <td>22.000000</td>\n",
       "      <td>0.000000</td>\n",
       "    </tr>\n",
       "    <tr>\n",
       "      <td>75%</td>\n",
       "      <td>139337.000000</td>\n",
       "      <td>1.316871</td>\n",
       "      <td>0.802516</td>\n",
       "      <td>1.026049</td>\n",
       "      <td>0.744471</td>\n",
       "      <td>0.610153</td>\n",
       "      <td>0.397215</td>\n",
       "      <td>0.569938</td>\n",
       "      <td>0.325849</td>\n",
       "      <td>0.597788</td>\n",
       "      <td>...</td>\n",
       "      <td>0.187107</td>\n",
       "      <td>0.529867</td>\n",
       "      <td>0.147642</td>\n",
       "      <td>0.439916</td>\n",
       "      <td>0.350742</td>\n",
       "      <td>0.240840</td>\n",
       "      <td>0.090529</td>\n",
       "      <td>0.078142</td>\n",
       "      <td>77.600000</td>\n",
       "      <td>0.000000</td>\n",
       "    </tr>\n",
       "    <tr>\n",
       "      <td>max</td>\n",
       "      <td>172792.000000</td>\n",
       "      <td>2.451888</td>\n",
       "      <td>22.057729</td>\n",
       "      <td>9.382558</td>\n",
       "      <td>16.875344</td>\n",
       "      <td>34.099309</td>\n",
       "      <td>23.917837</td>\n",
       "      <td>44.054461</td>\n",
       "      <td>20.007208</td>\n",
       "      <td>15.594995</td>\n",
       "      <td>...</td>\n",
       "      <td>27.202839</td>\n",
       "      <td>10.503090</td>\n",
       "      <td>22.528412</td>\n",
       "      <td>4.022866</td>\n",
       "      <td>7.519589</td>\n",
       "      <td>3.463246</td>\n",
       "      <td>12.152401</td>\n",
       "      <td>22.620072</td>\n",
       "      <td>19656.530000</td>\n",
       "      <td>1.000000</td>\n",
       "    </tr>\n",
       "  </tbody>\n",
       "</table>\n",
       "<p>8 rows × 31 columns</p>\n",
       "</div>"
      ],
      "text/plain": [
       "                Time             V1             V2             V3  \\\n",
       "count  227845.000000  227845.000000  227845.000000  227845.000000   \n",
       "mean    94832.242876       0.002930      -0.000877      -0.001470   \n",
       "std     47500.701858       1.955265       1.649672       1.515055   \n",
       "min         0.000000     -46.855047     -63.344698     -33.680984   \n",
       "25%     54202.000000      -0.919898      -0.599013      -0.894424   \n",
       "50%     84737.000000       0.021886       0.063972       0.177138   \n",
       "75%    139337.000000       1.316871       0.802516       1.026049   \n",
       "max    172792.000000       2.451888      22.057729       9.382558   \n",
       "\n",
       "                  V4             V5             V6             V7  \\\n",
       "count  227845.000000  227845.000000  227845.000000  227845.000000   \n",
       "mean        0.001131      -0.001714      -0.001035      -0.000411   \n",
       "std         1.416360       1.365962       1.326404       1.225317   \n",
       "min        -5.683171     -42.147898     -23.496714     -43.557242   \n",
       "25%        -0.847412      -0.693585      -0.769201      -0.553573   \n",
       "50%        -0.017538      -0.055515      -0.274916       0.039988   \n",
       "75%         0.744471       0.610153       0.397215       0.569938   \n",
       "max        16.875344      34.099309      23.917837      44.054461   \n",
       "\n",
       "                  V8             V9  ...            V21            V22  \\\n",
       "count  227845.000000  227845.000000  ...  227845.000000  227845.000000   \n",
       "mean       -0.001360      -0.000018  ...       0.000266       0.000300   \n",
       "std         1.205508       1.099972  ...       0.737593       0.726705   \n",
       "min       -73.216718     -13.434066  ...     -34.830382     -10.933144   \n",
       "25%        -0.209145      -0.644499  ...      -0.228658      -0.543193   \n",
       "50%         0.021545      -0.050353  ...      -0.028974       0.006970   \n",
       "75%         0.325849       0.597788  ...       0.187107       0.529867   \n",
       "max        20.007208      15.594995  ...      27.202839      10.503090   \n",
       "\n",
       "                 V23            V24            V25            V26  \\\n",
       "count  227845.000000  227845.000000  227845.000000  227845.000000   \n",
       "mean       -0.000276       0.000687       0.000192      -0.000584   \n",
       "std         0.623074       0.605268       0.520835       0.481943   \n",
       "min       -44.807735      -2.822684     -10.295397      -2.604551   \n",
       "25%        -0.161766      -0.354153      -0.316644      -0.327647   \n",
       "50%        -0.010914       0.041164       0.017429      -0.052443   \n",
       "75%         0.147642       0.439916       0.350742       0.240840   \n",
       "max        22.528412       4.022866       7.519589       3.463246   \n",
       "\n",
       "                 V27            V28         Amount          Class  \n",
       "count  227845.000000  227845.000000  227845.000000  227845.000000  \n",
       "mean       -0.000574      -0.000135      88.630203       0.001716  \n",
       "std         0.401394       0.320750     248.037789       0.041390  \n",
       "min       -22.565679     -11.710896       0.000000       0.000000  \n",
       "25%        -0.070776      -0.052865       5.690000       0.000000  \n",
       "50%         0.001091       0.011171      22.000000       0.000000  \n",
       "75%         0.090529       0.078142      77.600000       0.000000  \n",
       "max        12.152401      22.620072   19656.530000       1.000000  \n",
       "\n",
       "[8 rows x 31 columns]"
      ]
     },
     "execution_count": 4,
     "metadata": {},
     "output_type": "execute_result"
    }
   ],
   "source": [
    "credit.describe()"
   ]
  },
  {
   "cell_type": "markdown",
   "metadata": {},
   "source": [
    "## Class Imbalance\n",
    "------------------------"
   ]
  },
  {
   "cell_type": "code",
   "execution_count": 5,
   "metadata": {},
   "outputs": [
    {
     "name": "stdout",
     "output_type": "stream",
     "text": [
      "391 minority class samples\n",
      "227454 majority class samples\n",
      "0.17190% class imbalance\n"
     ]
    }
   ],
   "source": [
    "classes, counts = np.unique(credit['Class'], return_counts=True)\n",
    "\n",
    "maj_cls_size = counts.max()\n",
    "min_cls_size = counts.min()\n",
    "\n",
    "maj_cls_label = classes[counts == maj_cls_size].item()\n",
    "min_cls_label = classes[counts == min_cls_size].item()\n",
    "\n",
    "cls_ratio = min_cls_size / maj_cls_size\n",
    "\n",
    "print(f\"{min_cls_size} minority class samples\")\n",
    "print(f\"{maj_cls_size} majority class samples\")\n",
    "print(f\"{cls_ratio:.5%} class imbalance\")"
   ]
  },
  {
   "cell_type": "code",
   "execution_count": 6,
   "metadata": {},
   "outputs": [
    {
     "data": {
      "image/png": "[encoded data removed]",
      "text/plain": [
       "<Figure size 432x288 with 1 Axes>"
      ]
     },
     "metadata": {
      "needs_background": "light"
     },
     "output_type": "display_data"
    }
   ],
   "source": [
    "counts = credit['Class'].value_counts()\n",
    "labels = ['Non-Fraud', 'Fraud']\n",
    "ax = sns.barplot(x=labels, y=counts, log=True, palette=['blue', 'red'])\n",
    "ax.set(xlabel='Class', ylabel='Frequency', title='Class Distribution');"
   ]
  },
  {
   "cell_type": "markdown",
   "metadata": {},
   "source": [
    "## Time\n",
    "----------"
   ]
  },
  {
   "cell_type": "markdown",
   "metadata": {},
   "source": [
    "Observe that there are two days worth of data."
   ]
  },
  {
   "cell_type": "code",
   "execution_count": 7,
   "metadata": {},
   "outputs": [
    {
     "data": {
      "text/plain": [
       "172792.0"
      ]
     },
     "execution_count": 7,
     "metadata": {},
     "output_type": "execute_result"
    }
   ],
   "source": [
    "max_seconds = credit['Time'].max()\n",
    "max_seconds"
   ]
  },
  {
   "cell_type": "code",
   "execution_count": 8,
   "metadata": {},
   "outputs": [
    {
     "data": {
      "text/plain": [
       "(0, 86400, 172800)"
      ]
     },
     "execution_count": 8,
     "metadata": {},
     "output_type": "execute_result"
    }
   ],
   "source": [
    "day_seconds = 24 * 60 * 60\n",
    "\n",
    "predicate = lambda x: x - day_seconds <= max_seconds\n",
    "iterable = (day_seconds * i for i in itertools.count())\n",
    "tuple(itertools.takewhile(predicate, iterable))"
   ]
  },
  {
   "cell_type": "markdown",
   "metadata": {},
   "source": [
    "When graphed, we can clearly see a two day cycle of how many transactions are undergone during the day. I'll assume that the peaks are during daytime and the valleys are at night."
   ]
  },
  {
   "cell_type": "code",
   "execution_count": 11,
   "metadata": {},
   "outputs": [
    {
     "data": {
      "image/png": "[encoded data removed]",
      "text/plain": [
       "<Figure size 864x432 with 1 Axes>"
      ]
     },
     "metadata": {
      "needs_background": "light"
     },
     "output_type": "display_data"
    }
   ],
   "source": [
    "bins = len(np.histogram_bin_edges(credit['Time'], bins='auto'))\n",
    "\n",
    "plt.figure(figsize=(12, 6))\n",
    "plt.hist(credit['Time'], bins=bins, alpha=0.5)\n",
    "plt.title('Transactions over Time')\n",
    "plt.xlabel('Seconds from First Transaction')\n",
    "plt.ylabel('Frequency');"
   ]
  },
  {
   "cell_type": "markdown",
   "metadata": {},
   "source": [
    "Let's regularize this to have a column for the hour of the day rather than time from the first transaction. Assume midnight occurs at the minimums."
   ]
  },
  {
   "cell_type": "code",
   "execution_count": 15,
   "metadata": {},
   "outputs": [
    {
     "name": "stdout",
     "output_type": "stream",
     "text": [
      "63\n"
     ]
    },
    {
     "ename": "NameError",
     "evalue": "name 'bins' is not defined",
     "output_type": "error",
     "traceback": [
      "\u001b[0;31m---------------------------------------------------------------------------\u001b[0m",
      "\u001b[0;31mNameError\u001b[0m                                 Traceback (most recent call last)",
      "\u001b[0;32m<ipython-input-15-b5766d45a589>\u001b[0m in \u001b[0;36m<module>\u001b[0;34m\u001b[0m\n\u001b[1;32m      1\u001b[0m \u001b[0mprint\u001b[0m\u001b[0;34m(\u001b[0m\u001b[0mbins\u001b[0m\u001b[0;34m)\u001b[0m\u001b[0;34m\u001b[0m\u001b[0;34m\u001b[0m\u001b[0m\n\u001b[0;32m----> 2\u001b[0;31m \u001b[0mcredit\u001b[0m \u001b[0;34m=\u001b[0m \u001b[0mTimeToHour\u001b[0m\u001b[0;34m(\u001b[0m\u001b[0;34m)\u001b[0m\u001b[0;34m.\u001b[0m\u001b[0mfit_transform\u001b[0m\u001b[0;34m(\u001b[0m\u001b[0mcredit\u001b[0m\u001b[0;34m)\u001b[0m\u001b[0;34m\u001b[0m\u001b[0;34m\u001b[0m\u001b[0m\n\u001b[0m\u001b[1;32m      3\u001b[0m \u001b[0;34m\u001b[0m\u001b[0m\n\u001b[1;32m      4\u001b[0m \u001b[0mplt\u001b[0m\u001b[0;34m.\u001b[0m\u001b[0mfigure\u001b[0m\u001b[0;34m(\u001b[0m\u001b[0mfigsize\u001b[0m\u001b[0;34m=\u001b[0m\u001b[0;34m(\u001b[0m\u001b[0;36m12\u001b[0m\u001b[0;34m,\u001b[0m \u001b[0;36m6\u001b[0m\u001b[0;34m)\u001b[0m\u001b[0;34m)\u001b[0m\u001b[0;34m\u001b[0m\u001b[0;34m\u001b[0m\u001b[0m\n\u001b[1;32m      5\u001b[0m \u001b[0mplt\u001b[0m\u001b[0;34m.\u001b[0m\u001b[0mhist\u001b[0m\u001b[0;34m(\u001b[0m\u001b[0mcredit\u001b[0m\u001b[0;34m[\u001b[0m\u001b[0;34m'Hour'\u001b[0m\u001b[0;34m]\u001b[0m\u001b[0;34m,\u001b[0m \u001b[0mbins\u001b[0m\u001b[0;34m=\u001b[0m\u001b[0mbins\u001b[0m\u001b[0;34m,\u001b[0m \u001b[0malpha\u001b[0m\u001b[0;34m=\u001b[0m\u001b[0;36m0.5\u001b[0m\u001b[0;34m)\u001b[0m\u001b[0;34m\u001b[0m\u001b[0;34m\u001b[0m\u001b[0m\n",
      "\u001b[0;32m~/miniconda3/envs/fraud/lib/python3.7/site-packages/sklearn/base.py\u001b[0m in \u001b[0;36mfit_transform\u001b[0;34m(self, X, y, **fit_params)\u001b[0m\n\u001b[1;32m    551\u001b[0m         \u001b[0;32mif\u001b[0m \u001b[0my\u001b[0m \u001b[0;32mis\u001b[0m \u001b[0;32mNone\u001b[0m\u001b[0;34m:\u001b[0m\u001b[0;34m\u001b[0m\u001b[0;34m\u001b[0m\u001b[0m\n\u001b[1;32m    552\u001b[0m             \u001b[0;31m# fit method of arity 1 (unsupervised transformation)\u001b[0m\u001b[0;34m\u001b[0m\u001b[0;34m\u001b[0m\u001b[0;34m\u001b[0m\u001b[0m\n\u001b[0;32m--> 553\u001b[0;31m             \u001b[0;32mreturn\u001b[0m \u001b[0mself\u001b[0m\u001b[0;34m.\u001b[0m\u001b[0mfit\u001b[0m\u001b[0;34m(\u001b[0m\u001b[0mX\u001b[0m\u001b[0;34m,\u001b[0m \u001b[0;34m**\u001b[0m\u001b[0mfit_params\u001b[0m\u001b[0;34m)\u001b[0m\u001b[0;34m.\u001b[0m\u001b[0mtransform\u001b[0m\u001b[0;34m(\u001b[0m\u001b[0mX\u001b[0m\u001b[0;34m)\u001b[0m\u001b[0;34m\u001b[0m\u001b[0;34m\u001b[0m\u001b[0m\n\u001b[0m\u001b[1;32m    554\u001b[0m         \u001b[0;32melse\u001b[0m\u001b[0;34m:\u001b[0m\u001b[0;34m\u001b[0m\u001b[0;34m\u001b[0m\u001b[0m\n\u001b[1;32m    555\u001b[0m             \u001b[0;31m# fit method of arity 2 (supervised transformation)\u001b[0m\u001b[0;34m\u001b[0m\u001b[0;34m\u001b[0m\u001b[0;34m\u001b[0m\u001b[0m\n",
      "\u001b[0;32m~/CreditCardFraud/transformers.py\u001b[0m in \u001b[0;36mfit\u001b[0;34m(self, X, y)\u001b[0m\n\u001b[1;32m      7\u001b[0m \u001b[0;32mclass\u001b[0m \u001b[0mTimeToHour\u001b[0m\u001b[0;34m(\u001b[0m\u001b[0mTransformerMixin\u001b[0m\u001b[0;34m)\u001b[0m\u001b[0;34m:\u001b[0m\u001b[0;34m\u001b[0m\u001b[0;34m\u001b[0m\u001b[0m\n\u001b[1;32m      8\u001b[0m     \u001b[0;32mdef\u001b[0m \u001b[0mfit\u001b[0m\u001b[0;34m(\u001b[0m\u001b[0mself\u001b[0m\u001b[0;34m,\u001b[0m \u001b[0mX\u001b[0m\u001b[0;34m,\u001b[0m \u001b[0my\u001b[0m\u001b[0;34m=\u001b[0m\u001b[0;32mNone\u001b[0m\u001b[0;34m)\u001b[0m\u001b[0;34m:\u001b[0m\u001b[0;34m\u001b[0m\u001b[0;34m\u001b[0m\u001b[0m\n\u001b[0;32m----> 9\u001b[0;31m         \u001b[0mcuts\u001b[0m \u001b[0;34m=\u001b[0m \u001b[0mpd\u001b[0m\u001b[0;34m.\u001b[0m\u001b[0mcut\u001b[0m\u001b[0;34m(\u001b[0m\u001b[0mX\u001b[0m\u001b[0;34m[\u001b[0m\u001b[0;34m'Time'\u001b[0m\u001b[0;34m]\u001b[0m\u001b[0;34m,\u001b[0m \u001b[0mbins\u001b[0m\u001b[0;34m)\u001b[0m\u001b[0;34m\u001b[0m\u001b[0;34m\u001b[0m\u001b[0m\n\u001b[0m\u001b[1;32m     10\u001b[0m         \u001b[0mcounts\u001b[0m \u001b[0;34m=\u001b[0m \u001b[0mcuts\u001b[0m\u001b[0;34m.\u001b[0m\u001b[0mvalue_counts\u001b[0m\u001b[0;34m(\u001b[0m\u001b[0;34m)\u001b[0m\u001b[0;34m\u001b[0m\u001b[0;34m\u001b[0m\u001b[0m\n\u001b[1;32m     11\u001b[0m         \u001b[0mmidnight\u001b[0m \u001b[0;34m=\u001b[0m \u001b[0mint\u001b[0m\u001b[0;34m(\u001b[0m\u001b[0mcounts\u001b[0m\u001b[0;34m.\u001b[0m\u001b[0mindex\u001b[0m\u001b[0;34m[\u001b[0m\u001b[0;34m-\u001b[0m\u001b[0;36m1\u001b[0m\u001b[0;34m]\u001b[0m\u001b[0;34m.\u001b[0m\u001b[0mmid\u001b[0m\u001b[0;34m)\u001b[0m\u001b[0;34m\u001b[0m\u001b[0;34m\u001b[0m\u001b[0m\n",
      "\u001b[0;31mNameError\u001b[0m: name 'bins' is not defined"
     ]
    }
   ],
   "source": [
    "credit = TimeToHour().fit_transform(credit)\n",
    "\n",
    "plt.figure(figsize=(12, 6))\n",
    "plt.hist(credit['Hour'], bins=bins, alpha=0.5)\n",
    "plt.title('Hourly Transactions')\n",
    "plt.xticks(range(0, 25, 4))\n",
    "plt.xlabel('Hour')\n",
    "plt.ylabel('Frequency');"
   ]
  },
  {
   "cell_type": "markdown",
   "metadata": {},
   "source": [
    "## Non-Fraud vs Fraud\n",
    "-----------------------------"
   ]
  },
  {
   "cell_type": "code",
   "execution_count": null,
   "metadata": {},
   "outputs": [],
   "source": [
    "is_fraud = credit['Class'] == min_cls_label\n",
    "\n",
    "nonfraud = credit[~is_fraud]\n",
    "fraud = credit[is_fraud]\n",
    "\n",
    "nf_desc = nonfraud.describe()['Amount']\n",
    "nf_desc.name = 'Not Fraud'\n",
    "\n",
    "fr_desc = fraud.describe()['Amount']\n",
    "fr_desc.name = 'Fraud'\n",
    "\n",
    "pd.concat([nf_desc, fr_desc], axis=1)"
   ]
  },
  {
   "cell_type": "markdown",
   "metadata": {},
   "source": [
    "### Cent Distribution"
   ]
  },
  {
   "cell_type": "code",
   "execution_count": null,
   "metadata": {},
   "outputs": [],
   "source": [
    "credit = AmountCentsOnly().fit_transform(credit)\n",
    "cents = credit['Cents']\n",
    "all_cents_vc = cents.value_counts()\n",
    "\n",
    "nonfraud_cents_vc = cents[~is_fraud].value_counts()\n",
    "nonfraud_cents_norm = (nonfraud_cents_vc / nonfraud_cents_vc.sum()).sort_index()\n",
    "\n",
    "fraud_cents_vc = cents[is_fraud].value_counts()\n",
    "fraud_cents_norm = (fraud_cents_vc / fraud_cents_vc.sum()).sort_index()\n",
    "\n",
    "cents_norm = pd.concat([nonfraud_cents_norm, fraud_cents_norm], axis=1)\n",
    "cents_norm.columns = ['Non-Fraud', 'Fraud']\n",
    "\n",
    "cents_norm.plot.bar(figsize=(30, 8), color=['blue', 'red'], title='Transaction Cents')\n",
    "plt.xlabel('Cents')\n",
    "plt.ylabel('Density');"
   ]
  },
  {
   "cell_type": "code",
   "execution_count": null,
   "metadata": {},
   "outputs": [],
   "source": [
    "cents_ratio = cents_norm['Non-Fraud'] / cents_norm['Fraud']\n",
    "cents_ratio[cents_ratio >= 3]"
   ]
  },
  {
   "cell_type": "markdown",
   "metadata": {},
   "source": [
    "Non-fraud transactions are more than 3x as likely to have 0.29, 0.50, 0.60, 0.75, 0.85, 0.95, and 0.98 cents in the amount spent.  \n",
    "Of significant notice is that 0.98 cents is nearly 14x as common with non-fradulent amounts."
   ]
  },
  {
   "cell_type": "code",
   "execution_count": null,
   "metadata": {},
   "outputs": [],
   "source": [
    "cents_ratio[cents_ratio <= 1/3]"
   ]
  },
  {
   "cell_type": "markdown",
   "metadata": {},
   "source": [
    "Fraud transactions are more than 3x as likely to have 0.01 and 0.52 cents in the amount spent."
   ]
  },
  {
   "cell_type": "markdown",
   "metadata": {},
   "source": [
    "### Hourly Transactions"
   ]
  },
  {
   "cell_type": "markdown",
   "metadata": {},
   "source": [
    "#### Scatter Plots"
   ]
  },
  {
   "cell_type": "code",
   "execution_count": null,
   "metadata": {},
   "outputs": [],
   "source": [
    "fig, (ax0, ax1) = plt.subplots(1, 2, figsize=(16, 8), sharey=True, sharex=True)\n",
    "\n",
    "fig.suptitle('Hourly Transactions', fontsize=16)\n",
    "\n",
    "sns.scatterplot(nonfraud['Hour'], nonfraud['Amount'], alpha=0.1, color='blue', ax=ax0)\n",
    "sns.scatterplot(fraud['Hour'], fraud['Amount'], alpha=0.1, color='red', ax=ax1)\n",
    "\n",
    "ax0.set_title('Non-Fraud')\n",
    "ax1.set_title('Fraud')\n",
    "\n",
    "ax0.set_xticks(range(0, 25, 4))\n",
    "\n",
    "ax0.set_ylabel('Amount');"
   ]
  },
  {
   "cell_type": "markdown",
   "metadata": {},
   "source": [
    "It is difficult to see any patterns at this scale, so let's take the Log(Amount + 1) since we want the data to be more vertically spread and don't want undefined logrithm values when Amount = 0."
   ]
  },
  {
   "cell_type": "code",
   "execution_count": null,
   "metadata": {},
   "outputs": [],
   "source": [
    "credit = Log1pAmount().fit_transform(credit)\n",
    "nonfraud = credit[~is_fraud]\n",
    "fraud = credit[is_fraud]\n",
    "\n",
    "fig, (ax0, ax1) = plt.subplots(1, 2, figsize=(16, 20), sharey=True, sharex=True)\n",
    "fig.suptitle('Hourly Transactions', fontsize=16)\n",
    "\n",
    "sns.scatterplot(nonfraud['Hour'], nonfraud['Log1pAmount'], alpha=0.1, color='blue', ax=ax0)\n",
    "sns.scatterplot(fraud['Hour'], fraud['Log1pAmount'], alpha=0.1, color='red', ax=ax1)\n",
    "\n",
    "ax0.set_title('Non-Fraud')\n",
    "ax1.set_title('Fraud')\n",
    "\n",
    "ax0.set_xticks(range(0, 25, 4))\n",
    "\n",
    "ax0.set_ylabel('Log(Amount + 1)');"
   ]
  },
  {
   "cell_type": "markdown",
   "metadata": {},
   "source": [
    "From this we can see horizontal bands which are indicative of people spending \"benchmark\" amounts of money. For example, a transaction is more likely to be 100 dollars than 105.67 dollars."
   ]
  },
  {
   "cell_type": "markdown",
   "metadata": {},
   "source": [
    "#### Box and Violin Plots"
   ]
  },
  {
   "cell_type": "code",
   "execution_count": null,
   "metadata": {},
   "outputs": [],
   "source": [
    "fig, axes = plt.subplots(1, 4, figsize=(20, 10), sharey=True)\n",
    "ax0, ax1, ax2, ax3 = axes\n",
    "\n",
    "sns.violinplot(nonfraud['Log1pAmount'], orient='v', color='blue', ax=ax1)\n",
    "sns.violinplot(fraud['Log1pAmount'], orient='v', color='red', ax=ax3)\n",
    "\n",
    "sns.boxplot(nonfraud['Log1pAmount'], orient='v', color='blue', ax=ax0)\n",
    "sns.boxplot(fraud['Log1pAmount'], orient='v', color='red', ax=ax2)\n",
    "\n",
    "alpha = 0.5\n",
    "for ax in axes:\n",
    "    plt.setp(ax.collections, alpha=alpha)  # voilin\n",
    "\n",
    "    for patch in ax.artists:  # box\n",
    "        r, g, b, _ = patch.get_facecolor()\n",
    "        patch.set_facecolor((r, g, b, alpha))\n",
    "        \n",
    "ax0.set_ylabel('Log(Amount + 1)')\n",
    "ax1.set_ylabel(None)\n",
    "ax2.set_ylabel(None)\n",
    "ax3.set_ylabel(None)\n",
    "\n",
    "ax0.set_title('Non-Fraud Box')\n",
    "ax1.set_title('Non-Fraud Violin')\n",
    "ax2.set_title('Fraud Box')\n",
    "ax3.set_title('Fraud Violin');"
   ]
  },
  {
   "cell_type": "markdown",
   "metadata": {},
   "source": [
    "From the boxplots, we can see that the whiskers are basically identical between the two classes. The non-fraud has visible outliers according to boxplot standards. The interquartile range of fraud is wider, but that could be a result of a much smaller sample size. Also we can see that the average transaction for fraud is lower than non-fraud activity.\n",
    "\n",
    "Regarding the violinplots, they have roughly the same shape with a top and bottom, but the non-fraud is less smooth."
   ]
  },
  {
   "cell_type": "markdown",
   "metadata": {},
   "source": [
    "#### Hexbin Plot"
   ]
  },
  {
   "cell_type": "code",
   "execution_count": null,
   "metadata": {},
   "outputs": [],
   "source": [
    "def hex_plot(df1, df2, t1, t2, c1='Blues', c2='Reds'):\n",
    "    x, y = 'Hour', 'Log1pAmount'\n",
    "    \n",
    "    fig, (ax0, ax1) = plt.subplots(1, 2, figsize=(16, 7), sharey=True, sharex=True)\n",
    "    \n",
    "    fig.suptitle('Hourly Transactions', fontsize=16)\n",
    "\n",
    "    ax0.hexbin(df1[x], df1[y], gridsize=10, cmap=c1)\n",
    "    ax1.hexbin(df2[x], df2[y], gridsize=10, cmap=c2)\n",
    "    \n",
    "    ax0.set_title(t1)\n",
    "    ax1.set_title(t2)\n",
    "    \n",
    "    ax0.set_xlabel(x)\n",
    "    ax1.set_xlabel(x)\n",
    "\n",
    "    ax0.set_xticks(range(0, 25, 4))\n",
    "    \n",
    "    ax0.set_ylabel('Log(Amount + 1)')"
   ]
  },
  {
   "cell_type": "code",
   "execution_count": null,
   "metadata": {},
   "outputs": [],
   "source": [
    "hex_plot(nonfraud, fraud, 'Non-Fraud', 'Fraud')"
   ]
  },
  {
   "cell_type": "markdown",
   "metadata": {},
   "source": [
    "We can observe that non-fraudulent activity has a smaller density of transactions near 0 than fraudulent activity."
   ]
  },
  {
   "cell_type": "markdown",
   "metadata": {},
   "source": [
    "#### Line Plot: Average Amounts"
   ]
  },
  {
   "cell_type": "code",
   "execution_count": null,
   "metadata": {},
   "outputs": [],
   "source": [
    "plt.figure(figsize=(16, 7))\n",
    "\n",
    "(nonfraud.groupby(nonfraud['Hour'].round())['Amount'].mean()\n",
    "         .plot(color='blue', marker='o', label='Non-Fraud'))\n",
    "(fraud.groupby(fraud['Hour'].round())['Amount'].mean()\n",
    "      .plot(color='red', marker='s', label='Fraud'))\n",
    "\n",
    "plt.title('Average Hourly Transactions')\n",
    "plt.legend(['Non-Fraud', 'Fraud'])\n",
    "plt.xticks(range(0, 25, 4))\n",
    "plt.ylabel('Amount');"
   ]
  },
  {
   "cell_type": "markdown",
   "metadata": {},
   "source": [
    "On average, fraudsters make larger transactions."
   ]
  },
  {
   "cell_type": "markdown",
   "metadata": {},
   "source": [
    "## Outliers\n",
    "--------------\n",
    "Next, we will look for outliers in the data. I conjecture that non-fraud outliers would likely be confused with fraudulent data points."
   ]
  },
  {
   "cell_type": "code",
   "execution_count": null,
   "metadata": {},
   "outputs": [],
   "source": [
    "lof = LocalOutlierFactor(contamination='auto')\n",
    "nf_preds = lof.fit_predict(nonfraud)\n",
    "\n",
    "nf_inliers = nonfraud[nf_preds == 1]\n",
    "nf_in_desc = nf_inliers.describe()['Amount']\n",
    "nf_in_desc.name = 'NF Inlier'\n",
    "\n",
    "nf_outliers = nonfraud[nf_preds == -1]\n",
    "nf_out_desc = nf_outliers.describe()['Amount']\n",
    "nf_out_desc.name = 'NF Outlier'\n",
    "\n",
    "pd.concat([nf_desc, nf_in_desc, nf_out_desc], axis=1)"
   ]
  },
  {
   "cell_type": "code",
   "execution_count": null,
   "metadata": {},
   "outputs": [],
   "source": [
    "lof = LocalOutlierFactor(contamination='auto')\n",
    "fr_preds = lof.fit_predict(fraud)\n",
    "\n",
    "fr_inliers = fraud[fr_preds == 1]\n",
    "fr_in_desc = fr_inliers.describe()['Amount']\n",
    "fr_in_desc.name = 'Fr Inlier'\n",
    "\n",
    "fr_outliers = fraud[fr_preds == -1]\n",
    "fr_out_desc = fr_outliers.describe()['Amount']\n",
    "fr_out_desc.name = 'Fr Outlier'\n",
    "\n",
    "pd.concat([fr_desc, fr_in_desc, fr_out_desc], axis=1)"
   ]
  },
  {
   "cell_type": "code",
   "execution_count": null,
   "metadata": {},
   "outputs": [],
   "source": [
    "def display_outliers(df, title, x='Amount', xlabel='Transaction Amount', ax=None):\n",
    "    lof = LocalOutlierFactor(contamination='auto')\n",
    "    pred = lof.fit_predict(df)\n",
    "    \n",
    "    is_outlier = (pred == -1)\n",
    "    \n",
    "    plt.figure(figsize=(20, 10))\n",
    "\n",
    "    sns.kdeplot(df[~is_outlier][x], label='inliers', linewidth=3, shade=True, ax=ax, color='green')\n",
    "    sns.kdeplot(df[is_outlier][x], label='outliers', linewidth=3, shade=True, ax=ax, color='purple')\n",
    "\n",
    "    plt.xlabel(xlabel, fontdict=dict(fontsize=20))\n",
    "    plt.ylabel('Density', fontdict=dict(fontsize=20))\n",
    "\n",
    "    plt.legend(prop={'size': 20})\n",
    "    plt.title(title, fontdict=dict(fontsize=40));"
   ]
  },
  {
   "cell_type": "markdown",
   "metadata": {},
   "source": [
    "### Fraud Transactions\n",
    "\n",
    "Fraud outlier and inlier KDE distributions overlap very closely.\n",
    "- Amount\n",
    "    - Both have peaks around 0.\n",
    "    - Outlier has slightly lower peak.\n",
    "    - Inlier has longer right tail.\n",
    "- Log(Amount + 1)\n",
    "    - Overall they are similar other than dip in middle"
   ]
  },
  {
   "cell_type": "code",
   "execution_count": null,
   "metadata": {},
   "outputs": [],
   "source": [
    "display_outliers(fraud, 'Fraud Transactions', x='Amount', xlabel='Transaction Amount')"
   ]
  },
  {
   "cell_type": "code",
   "execution_count": null,
   "metadata": {},
   "outputs": [],
   "source": [
    "display_outliers(fraud, 'Fraud Transactions', x='Log1pAmount', xlabel='Transaction Log(Amount + 1)')"
   ]
  },
  {
   "cell_type": "markdown",
   "metadata": {},
   "source": [
    "### Non-Fraud Transactions\n",
    "\n",
    "Non-fraud outlier and inlier distributions are quite different than the fraud case.\n",
    "- Amount\n",
    "    - Outlier peak is not close to 0\n",
    "    - Inlier peak is half that of the outlier peak.\n",
    "    - Outlier has a huge right skew.\n",
    "- Log(Amount + 1)\n",
    "    - Clear separation of graphs"
   ]
  },
  {
   "cell_type": "code",
   "execution_count": null,
   "metadata": {},
   "outputs": [],
   "source": [
    "display_outliers(nonfraud, 'Non-Fraud Transactions', x='Amount', xlabel='Transaction Amount')"
   ]
  },
  {
   "cell_type": "code",
   "execution_count": null,
   "metadata": {},
   "outputs": [],
   "source": [
    "display_outliers(nonfraud, 'Non-Fraud Transactions', x='Log1pAmount', xlabel='Transaction Log(Amount + 1)')"
   ]
  },
  {
   "cell_type": "markdown",
   "metadata": {},
   "source": [
    "We will experiment later whether removing these non-fraud outliers from the dataset will result int better detection of fraudulent activity. This is acceptable since it only accounts for 1.6% of the dataset."
   ]
  },
  {
   "cell_type": "code",
   "execution_count": null,
   "metadata": {},
   "outputs": [],
   "source": [
    "print(f\"Outliers to non-fraud: {len(nf_outliers) / len(nonfraud)}\")\n",
    "print(f\"Outliers to all data: {len(nf_outliers) / len(credit)}\")"
   ]
  },
  {
   "cell_type": "markdown",
   "metadata": {},
   "source": [
    "### Inliers vs All\n",
    "\n",
    "With both the non-fraud and fraud data, their inliers are in alignment with the dataset as a whole."
   ]
  },
  {
   "cell_type": "code",
   "execution_count": null,
   "metadata": {},
   "outputs": [],
   "source": [
    "hex_plot(nf_inliers, nonfraud, 'Non-Fraud Inliers', 'Non-Fraud All', c2='Blues')"
   ]
  },
  {
   "cell_type": "code",
   "execution_count": null,
   "metadata": {},
   "outputs": [],
   "source": [
    "hex_plot(fr_inliers, fraud, 'Fraud Inliers', 'Fraud All', c1='Reds')"
   ]
  },
  {
   "cell_type": "markdown",
   "metadata": {},
   "source": [
    "## Outliers vs All\n",
    "\n",
    "Here we get interesting data as the density distributions of transaction amount vs time have drastically different graphs as would be expected.\n",
    "\n",
    "### Non-Fraud\n",
    "- Outliers tend to occur at nighttime\n",
    "- The transaction amount is higher\n",
    "\n",
    "### Fraud\n",
    "- Avoiding middle of the day\n",
    "- Avoiding midnight to early morning"
   ]
  },
  {
   "cell_type": "code",
   "execution_count": null,
   "metadata": {},
   "outputs": [],
   "source": [
    "hex_plot(nf_outliers, nonfraud, 'Non-Fraud Outliers', 'Non-Fraud All', c2='Blues')"
   ]
  },
  {
   "cell_type": "code",
   "execution_count": null,
   "metadata": {},
   "outputs": [],
   "source": [
    "hex_plot(fr_outliers, fraud, 'Fraud Outliers', 'Fraud All', c1='Reds')"
   ]
  },
  {
   "cell_type": "markdown",
   "metadata": {},
   "source": [
    "#### Heatmap"
   ]
  },
  {
   "cell_type": "code",
   "execution_count": null,
   "metadata": {},
   "outputs": [],
   "source": [
    "corr = credit.corr()\n",
    "corr"
   ]
  },
  {
   "cell_type": "code",
   "execution_count": null,
   "metadata": {},
   "outputs": [],
   "source": [
    "corr[corr != 1].min().min(), corr[corr != 1].max().max()"
   ]
  },
  {
   "cell_type": "code",
   "execution_count": null,
   "metadata": {},
   "outputs": [],
   "source": [
    "fig, ax = plt.subplots(figsize=(16, 16))\n",
    "sns.heatmap(corr, cmap='inferno', ax=ax)"
   ]
  },
  {
   "cell_type": "markdown",
   "metadata": {},
   "source": [
    "There are no super strong collinearities that we have to worry about. The most extreme cases are -0.536 and 0.558."
   ]
  },
  {
   "cell_type": "code",
   "execution_count": null,
   "metadata": {},
   "outputs": [],
   "source": []
  }
 ],
 "metadata": {
  "kernelspec": {
   "display_name": "Python 3",
   "language": "python",
   "name": "python3"
  },
  "language_info": {
   "codemirror_mode": {
    "name": "ipython",
    "version": 3
   },
   "file_extension": ".py",
   "mimetype": "text/x-python",
   "name": "python",
   "nbconvert_exporter": "python",
   "pygments_lexer": "ipython3",
   "version": "3.7.3"
  }
 },
 "nbformat": 4,
 "nbformat_minor": 2
}
